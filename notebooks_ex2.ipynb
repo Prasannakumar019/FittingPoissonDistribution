{
  "metadata": {
    "language_info": {
      "codemirror_mode": {
        "name": "python",
        "version": 3
      },
      "file_extension": ".py",
      "mimetype": "text/x-python",
      "name": "python",
      "nbconvert_exporter": "python",
      "pygments_lexer": "ipython3",
      "version": "3.8"
    },
    "kernelspec": {
      "name": "python",
      "display_name": "Pyolite",
      "language": "python"
    }
  },
  "nbformat_minor": 4,
  "nbformat": 4,
  "cells": [
    {
      "cell_type": "code",
      "source": "import numpy as np\nimport math\nimport scipy.stats\nX=[0,1,2,3,4,5,6]\nf=[153,169,72,31,12,6,2]\nn=6\nN=np.sum(f)\nmean=np.inner(X,f)/N\nP=list(); E=list(); xi=list()\nprint(\"  X P(X=x) Obs.Fr  Ex.Fre   xi \")\nprint(\"----------------------------------\")\nfor x in range(7):\n    P.append(math.exp(-mean)*mean**x/math.factorial(x))\n    E.append(Prob[x]*N)\n    xi.append((f[x]-E[x])**2/E[x])\n    print(\"%2.2f %2.2f  %4.2f   %3.2f  %3.2f\"%(x,P[x],f[x],E[x],xi[x]))\nprint(\"----------------------------------\")\ncal_val=np.sum(xi)\nprint(\"Calculated value of Chi square is %4.2f\"%cal_val)\ntab_val=scipy.stats.chi2.ppf(1-.01, df=n)\nprint(\"Table value of Chi square at 1  level is %4.2f\"%tab_val)\nif cal_val<tab_val:\n    print(\"The given data can be fitted in Poissson distribution at 1% LOS\")\nelse:\n    print(\"The given data cannot be fitted in Poisson distribution at 1% LOS\")",
      "metadata": {
        "trusted": true
      },
      "execution_count": 5,
      "outputs": [
        {
          "name": "stdout",
          "text": "  X P(X=x) Obs.Fr  Ex.Fre   xi \n----------------------------------\n",
          "output_type": "stream"
        },
        {
          "ename": "<class 'NameError'>",
          "evalue": "name 'Prob' is not defined",
          "traceback": [
            "\u001b[0;31m---------------------------------------------------------------------------\u001b[0m",
            "\u001b[0;31mNameError\u001b[0m                                 Traceback (most recent call last)",
            "Input \u001b[0;32mIn [5]\u001b[0m, in \u001b[0;36m<cell line: 12>\u001b[0;34m()\u001b[0m\n\u001b[1;32m     12\u001b[0m \u001b[38;5;28;01mfor\u001b[39;00m x \u001b[38;5;129;01min\u001b[39;00m \u001b[38;5;28mrange\u001b[39m(\u001b[38;5;241m7\u001b[39m):\n\u001b[1;32m     13\u001b[0m     P\u001b[38;5;241m.\u001b[39mappend(math\u001b[38;5;241m.\u001b[39mexp(\u001b[38;5;241m-\u001b[39mmean)\u001b[38;5;241m*\u001b[39mmean\u001b[38;5;241m*\u001b[39m\u001b[38;5;241m*\u001b[39mx\u001b[38;5;241m/\u001b[39mmath\u001b[38;5;241m.\u001b[39mfactorial(x))\n\u001b[0;32m---> 14\u001b[0m     E\u001b[38;5;241m.\u001b[39mappend(\u001b[43mProb\u001b[49m[x]\u001b[38;5;241m*\u001b[39mN)\n\u001b[1;32m     15\u001b[0m     xi\u001b[38;5;241m.\u001b[39mappend((f[x]\u001b[38;5;241m-\u001b[39mE[x])\u001b[38;5;241m*\u001b[39m\u001b[38;5;241m*\u001b[39m\u001b[38;5;241m2\u001b[39m\u001b[38;5;241m/\u001b[39mE[x])\n\u001b[1;32m     16\u001b[0m     \u001b[38;5;28mprint\u001b[39m(\u001b[38;5;124m\"\u001b[39m\u001b[38;5;132;01m%2.2f\u001b[39;00m\u001b[38;5;124m \u001b[39m\u001b[38;5;132;01m%2.2f\u001b[39;00m\u001b[38;5;124m  \u001b[39m\u001b[38;5;132;01m%4.2f\u001b[39;00m\u001b[38;5;124m   \u001b[39m\u001b[38;5;132;01m%3.2f\u001b[39;00m\u001b[38;5;124m  \u001b[39m\u001b[38;5;132;01m%3.2f\u001b[39;00m\u001b[38;5;124m\"\u001b[39m\u001b[38;5;241m%\u001b[39m(x,P[x],f[x],E[x],xi[x]))\n",
            "\u001b[0;31mNameError\u001b[0m: name 'Prob' is not defined"
          ],
          "output_type": "error"
        }
      ]
    },
    {
      "cell_type": "code",
      "source": "",
      "metadata": {},
      "execution_count": null,
      "outputs": []
    },
    {
      "cell_type": "code",
      "source": "",
      "metadata": {},
      "execution_count": null,
      "outputs": []
    }
  ]
}